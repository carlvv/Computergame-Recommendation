{
 "cells": [
  {
   "cell_type": "markdown",
   "metadata": {},
   "source": [
    "https://www.youtube.com/watch?v=ZspR5PZemcs"
   ]
  },
  {
   "cell_type": "code",
   "execution_count": 18,
   "metadata": {},
   "outputs": [],
   "source": [
    "import pandas as pd\n",
    "import numpy as np\n",
    "import os"
   ]
  },
  {
   "cell_type": "code",
   "execution_count": 19,
   "metadata": {},
   "outputs": [],
   "source": [
    "path = os.path.join(os.path.abspath(os.getcwd()), \"..\", \"data\", \"steam_games_final_combined.csv\")\n",
    "games = pd.read_csv(path)"
   ]
  },
  {
   "cell_type": "code",
   "execution_count": 29,
   "metadata": {},
   "outputs": [
    {
     "name": "stdout",
     "output_type": "stream",
     "text": [
      "0                              Dota 2\n",
      "1    Counter-Strike: Global Offensive\n",
      "2                 PUBG: BATTLEGROUNDS\n",
      "3                     Team Fortress 2\n",
      "4                           New World\n",
      "Name: name, dtype: object: 0    4.488356\n",
      "1    6.805372\n",
      "2    1.408365\n",
      "3    7.609514\n",
      "4    2.366498\n",
      "dtype: float64\n"
     ]
    }
   ],
   "source": [
    "gameNames = games.head().loc[:,\"name\"]\n",
    "negative = games.head().loc[:,\"negative\"]\n",
    "positive = games.head().loc[:,\"positive\"]\n",
    "\n",
    "print(f\"{gameNames}: {positive / negative}\")"
   ]
  }
 ],
 "metadata": {
  "kernelspec": {
   "display_name": ".venv",
   "language": "python",
   "name": "python3"
  },
  "language_info": {
   "codemirror_mode": {
    "name": "ipython",
    "version": 3
   },
   "file_extension": ".py",
   "mimetype": "text/x-python",
   "name": "python",
   "nbconvert_exporter": "python",
   "pygments_lexer": "ipython3",
   "version": "3.12.3"
  }
 },
 "nbformat": 4,
 "nbformat_minor": 2
}
