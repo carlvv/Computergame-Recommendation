{
 "cells": [
  {
   "cell_type": "markdown",
   "metadata": {},
   "source": [
    "https://www.youtube.com/watch?v=ZspR5PZemcs\n",
    "https://www.kaggle.com/code/gspmoreira/recommender-systems-in-python-101\n",
    "https://www.kaggle.com/code/rounakbanik/movie-recommender-systems"
   ]
  },
  {
   "cell_type": "code",
   "execution_count": 53,
   "metadata": {},
   "outputs": [],
   "source": [
    "import pandas as pd\n",
    "import numpy as np\n",
    "import os\n",
    "import sklearn as sc\n",
    "from sklearn import cluster as cl\n",
    "import odf\n",
    "import seaborn as sns\n",
    "import matplotlib.pyplot as plt"
   ]
  },
  {
   "cell_type": "code",
   "execution_count": 55,
   "metadata": {},
   "outputs": [
    {
     "name": "stdout",
     "output_type": "stream",
     "text": [
      "     appid  positive  negative  scorediv  price  \\\n",
      "0      570   1841595    410305  4.488356   0.00   \n",
      "1      730   7042784   1034886  6.805372   0.00   \n",
      "2   578080   1384764    983242  1.408365   0.00   \n",
      "3      440    956242    125664  7.609514   0.00   \n",
      "4  1063730    193040     81572  2.366498  39.99   \n",
      "\n",
      "                                               genre Main genre  \\\n",
      "0                     Action, Strategy, Free to Play     Action   \n",
      "1                               Action, Free to Play     Action   \n",
      "2  Action, Adventure, Massively Multiplayer, Free...     Action   \n",
      "3                               Action, Free to Play     Action   \n",
      "4      Action, Adventure, Massively Multiplayer, RPG     Action   \n",
      "\n",
      "                                                tags  Unnamed: 8 Unnamed: 9  \\\n",
      "0  {'Free to Play': 59586, 'MOBA': 19975, 'Multip...         NaN        NaN   \n",
      "1  {'FPS': 90109, 'Shooter': 64818, 'Multiplayer'...         NaN        NaN   \n",
      "2  {'Survival': 14626, 'Shooter': 12485, 'Battle ...         NaN        NaN   \n",
      "3  {'Free to Play': 62521, 'Hero Shooter': 60926,...         NaN        NaN   \n",
      "4  {'Open World': 777, 'Massively Multiplayer': 7...         NaN        NaN   \n",
      "\n",
      "   ... Unnamed: 18 Unnamed: 19 Unnamed: 20 Unnamed: 21 Unnamed: 22  \\\n",
      "0  ...         NaN         NaN         NaN         NaN         NaN   \n",
      "1  ...         NaN         NaN         NaN         NaN         NaN   \n",
      "2  ...         NaN         NaN         NaN         NaN         NaN   \n",
      "3  ...         NaN         NaN         NaN         NaN         NaN   \n",
      "4  ...         NaN         NaN         NaN         NaN         NaN   \n",
      "\n",
      "  Unnamed: 23 Unnamed: 24 Unnamed: 25 Unnamed: 26 Unnamed: 27  \n",
      "0         NaN         NaN         NaN         NaN         NaN  \n",
      "1         NaN         NaN         NaN         NaN         NaN  \n",
      "2         NaN         NaN         NaN         NaN         NaN  \n",
      "3         NaN         NaN         NaN         NaN         NaN  \n",
      "4         NaN         NaN         NaN         NaN         NaN  \n",
      "\n",
      "[5 rows x 28 columns]\n"
     ]
    }
   ],
   "source": [
    "path = os.path.join(os.path.abspath(os.getcwd()), \"..\", \"data\", \"steam_games_final_combined.ods\")\n",
    "games = pd.read_excel(path, engine=\"odf\")\n",
    "print(games.head())"
   ]
  },
  {
   "cell_type": "code",
   "execution_count": null,
   "metadata": {},
   "outputs": [],
   "source": [
    "negative = games.head().loc[:,\"negative\"]\n",
    "positive = games.head().loc[:,\"positive\"]\n",
    "\n",
    "print(f\"{positive / negative}\")"
   ]
  },
  {
   "cell_type": "code",
   "execution_count": 64,
   "metadata": {},
   "outputs": [],
   "source": [
    "games100 = games.head(100)"
   ]
  },
  {
   "cell_type": "code",
   "execution_count": 65,
   "metadata": {},
   "outputs": [
    {
     "data": {
      "text/plain": [
       "<seaborn.axisgrid.PairGrid at 0x7f8cd9202ed0>"
      ]
     },
     "execution_count": 65,
     "metadata": {},
     "output_type": "execute_result"
    },
    {
     "data": {
      "image/png": "[encoded data removed]",
      "text/plain": [
       "<Figure size 500x500 with 6 Axes>"
      ]
     },
     "metadata": {},
     "output_type": "display_data"
    }
   ],
   "source": [
    "sns.pairplot(games100[['Main genre','scorediv', 'price']])"
   ]
  },
  {
   "cell_type": "code",
   "execution_count": 66,
   "metadata": {},
   "outputs": [],
   "source": [
    "import sklearn.cluster as cluster"
   ]
  },
  {
   "cell_type": "code",
   "execution_count": 68,
   "metadata": {},
   "outputs": [
    {
     "data": {
      "text/plain": [
       "array([[ 9.84133888, 19.20366667],\n",
       "       [ 5.26565451,  0.28514286],\n",
       "       [ 8.37858692, 63.74      ],\n",
       "       [42.9325448 , 10.68230769],\n",
       "       [ 9.45265478, 34.63285714]])"
      ]
     },
     "execution_count": 68,
     "metadata": {},
     "output_type": "execute_result"
    }
   ],
   "source": [
    "kmeans = cluster.KMeans(n_clusters=5 ,init=\"k-means++\")\n",
    "kmeans = kmeans.fit(games100[['scorediv','price']])\n",
    "kmeans.cluster_centers_"
   ]
  }
 ],
 "metadata": {
  "kernelspec": {
   "display_name": ".venv",
   "language": "python",
   "name": "python3"
  },
  "language_info": {
   "codemirror_mode": {
    "name": "ipython",
    "version": 3
   },
   "file_extension": ".py",
   "mimetype": "text/x-python",
   "name": "python",
   "nbconvert_exporter": "python",
   "pygments_lexer": "ipython3",
   "version": "3.12.3"
  }
 },
 "nbformat": 4,
 "nbformat_minor": 2
}
